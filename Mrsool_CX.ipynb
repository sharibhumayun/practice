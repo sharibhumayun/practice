{
  "nbformat": 4,
  "nbformat_minor": 0,
  "metadata": {
    "colab": {
      "name": "Mrsool_CX.ipynb",
      "provenance": [],
      "collapsed_sections": [],
      "include_colab_link": true
    },
    "kernelspec": {
      "name": "python3",
      "display_name": "Python 3"
    }
  },
  "cells": [
    {
      "cell_type": "markdown",
      "metadata": {
        "id": "view-in-github",
        "colab_type": "text"
      },
      "source": [
        "<a href=\"https://colab.research.google.com/github/sharibhumayun/practice/blob/main/Mrsool_CX.ipynb\" target=\"_parent\"><img src=\"https://colab.research.google.com/assets/colab-badge.svg\" alt=\"Open In Colab\"/></a>"
      ]
    },
    {
      "cell_type": "code",
      "metadata": {
        "id": "tIMRiGIYWGBn"
      },
      "source": [
        "import pandas as pd\r\n",
        "import numpy as np\r\n",
        "import matplotlib.pyplot as plt\r\n",
        "%matplotlib inline\r\n",
        "import seaborn as sns"
      ],
      "execution_count": 1,
      "outputs": []
    },
    {
      "cell_type": "code",
      "metadata": {
        "id": "F41_VGKUWXH-",
        "colab": {
          "base_uri": "https://localhost:8080/",
          "height": 309
        },
        "outputId": "e6ce1c4b-22ee-44d3-db93-d0f0bd14f6e0"
      },
      "source": [
        "path ='https://raw.githubusercontent.com/sharibhumayun/practice/main/Masterdatabase.csv'\r\n",
        "df= pd.read_csv(path)\r\n",
        "df.head()"
      ],
      "execution_count": 2,
      "outputs": [
        {
          "output_type": "execute_result",
          "data": {
            "text/html": [
              "<div>\n",
              "<style scoped>\n",
              "    .dataframe tbody tr th:only-of-type {\n",
              "        vertical-align: middle;\n",
              "    }\n",
              "\n",
              "    .dataframe tbody tr th {\n",
              "        vertical-align: top;\n",
              "    }\n",
              "\n",
              "    .dataframe thead th {\n",
              "        text-align: right;\n",
              "    }\n",
              "</style>\n",
              "<table border=\"1\" class=\"dataframe\">\n",
              "  <thead>\n",
              "    <tr style=\"text-align: right;\">\n",
              "      <th></th>\n",
              "      <th>Region</th>\n",
              "      <th>Main_brand</th>\n",
              "      <th>Category</th>\n",
              "      <th>Age</th>\n",
              "      <th>Gender</th>\n",
              "      <th>Nationality</th>\n",
              "      <th>OSAT</th>\n",
              "      <th>Communication</th>\n",
              "      <th>Ontime</th>\n",
              "      <th>Proposition</th>\n",
              "      <th>Delivery_fees</th>\n",
              "      <th>Restaurant_options</th>\n",
              "      <th>Grocery_options</th>\n",
              "      <th>Ease_usage</th>\n",
              "      <th>Delivery_process</th>\n",
              "      <th>App_sat</th>\n",
              "      <th>time_deliveryboy</th>\n",
              "      <th>Customer_support</th>\n",
              "      <th>Payment_process</th>\n",
              "      <th>Paying_</th>\n",
              "      <th>Product_quality</th>\n",
              "    </tr>\n",
              "  </thead>\n",
              "  <tbody>\n",
              "    <tr>\n",
              "      <th>0</th>\n",
              "      <td>Western</td>\n",
              "      <td>HungerStation</td>\n",
              "      <td>Restaurants</td>\n",
              "      <td>30-39</td>\n",
              "      <td>Male</td>\n",
              "      <td>Expat Arabs</td>\n",
              "      <td>8</td>\n",
              "      <td>6.0</td>\n",
              "      <td>5.0</td>\n",
              "      <td>6.0</td>\n",
              "      <td>6.0</td>\n",
              "      <td>6.0</td>\n",
              "      <td>6.0</td>\n",
              "      <td>7.0</td>\n",
              "      <td>7.0</td>\n",
              "      <td>7.0</td>\n",
              "      <td>6.0</td>\n",
              "      <td>7.0</td>\n",
              "      <td>6.0</td>\n",
              "      <td>8.0</td>\n",
              "      <td>7.0</td>\n",
              "    </tr>\n",
              "    <tr>\n",
              "      <th>1</th>\n",
              "      <td>Western</td>\n",
              "      <td>HungerStation</td>\n",
              "      <td>Restaurants</td>\n",
              "      <td>30-39</td>\n",
              "      <td>Female</td>\n",
              "      <td>Nationals</td>\n",
              "      <td>9</td>\n",
              "      <td>10.0</td>\n",
              "      <td>10.0</td>\n",
              "      <td>10.0</td>\n",
              "      <td>9.0</td>\n",
              "      <td>10.0</td>\n",
              "      <td>10.0</td>\n",
              "      <td>10.0</td>\n",
              "      <td>10.0</td>\n",
              "      <td>10.0</td>\n",
              "      <td>10.0</td>\n",
              "      <td>9.0</td>\n",
              "      <td>10.0</td>\n",
              "      <td>9.0</td>\n",
              "      <td>10.0</td>\n",
              "    </tr>\n",
              "    <tr>\n",
              "      <th>2</th>\n",
              "      <td>Western</td>\n",
              "      <td>HungerStation</td>\n",
              "      <td>Restaurants</td>\n",
              "      <td>30-39</td>\n",
              "      <td>Male</td>\n",
              "      <td>Nationals</td>\n",
              "      <td>10</td>\n",
              "      <td>9.0</td>\n",
              "      <td>8.0</td>\n",
              "      <td>10.0</td>\n",
              "      <td>NaN</td>\n",
              "      <td>10.0</td>\n",
              "      <td>9.0</td>\n",
              "      <td>10.0</td>\n",
              "      <td>NaN</td>\n",
              "      <td>10.0</td>\n",
              "      <td>9.0</td>\n",
              "      <td>10.0</td>\n",
              "      <td>NaN</td>\n",
              "      <td>9.0</td>\n",
              "      <td>10.0</td>\n",
              "    </tr>\n",
              "    <tr>\n",
              "      <th>3</th>\n",
              "      <td>Western</td>\n",
              "      <td>HungerStation</td>\n",
              "      <td>Restaurants</td>\n",
              "      <td>40-49</td>\n",
              "      <td>Male</td>\n",
              "      <td>Expat Asians</td>\n",
              "      <td>7</td>\n",
              "      <td>9.0</td>\n",
              "      <td>9.0</td>\n",
              "      <td>9.0</td>\n",
              "      <td>9.0</td>\n",
              "      <td>9.0</td>\n",
              "      <td>9.0</td>\n",
              "      <td>9.0</td>\n",
              "      <td>9.0</td>\n",
              "      <td>9.0</td>\n",
              "      <td>9.0</td>\n",
              "      <td>9.0</td>\n",
              "      <td>9.0</td>\n",
              "      <td>8.0</td>\n",
              "      <td>9.0</td>\n",
              "    </tr>\n",
              "    <tr>\n",
              "      <th>4</th>\n",
              "      <td>Central</td>\n",
              "      <td>HungerStation</td>\n",
              "      <td>Restaurants</td>\n",
              "      <td>30-39</td>\n",
              "      <td>Female</td>\n",
              "      <td>Nationals</td>\n",
              "      <td>6</td>\n",
              "      <td>8.0</td>\n",
              "      <td>7.0</td>\n",
              "      <td>7.0</td>\n",
              "      <td>6.0</td>\n",
              "      <td>6.0</td>\n",
              "      <td>6.0</td>\n",
              "      <td>5.0</td>\n",
              "      <td>7.0</td>\n",
              "      <td>7.0</td>\n",
              "      <td>5.0</td>\n",
              "      <td>6.0</td>\n",
              "      <td>6.0</td>\n",
              "      <td>6.0</td>\n",
              "      <td>6.0</td>\n",
              "    </tr>\n",
              "  </tbody>\n",
              "</table>\n",
              "</div>"
            ],
            "text/plain": [
              "    Region     Main_brand  ... Paying_ Product_quality\n",
              "0  Western  HungerStation  ...     8.0             7.0\n",
              "1  Western  HungerStation  ...     9.0            10.0\n",
              "2  Western  HungerStation  ...     9.0            10.0\n",
              "3  Western  HungerStation  ...     8.0             9.0\n",
              "4  Central  HungerStation  ...     6.0             6.0\n",
              "\n",
              "[5 rows x 21 columns]"
            ]
          },
          "metadata": {
            "tags": []
          },
          "execution_count": 2
        }
      ]
    },
    {
      "cell_type": "code",
      "metadata": {
        "colab": {
          "base_uri": "https://localhost:8080/"
        },
        "id": "s3M5JbxGZ5Cw",
        "outputId": "7ba5964d-48b0-4c4a-8d5d-b172dd02088d"
      },
      "source": [
        "df.shape"
      ],
      "execution_count": 3,
      "outputs": [
        {
          "output_type": "execute_result",
          "data": {
            "text/plain": [
              "(3581, 21)"
            ]
          },
          "metadata": {
            "tags": []
          },
          "execution_count": 3
        }
      ]
    },
    {
      "cell_type": "code",
      "metadata": {
        "colab": {
          "base_uri": "https://localhost:8080/"
        },
        "id": "JkoQhqwnaeVc",
        "outputId": "52d91275-0bcf-42b3-c481-162e2957ef7d"
      },
      "source": [
        "df.dtypes"
      ],
      "execution_count": 4,
      "outputs": [
        {
          "output_type": "execute_result",
          "data": {
            "text/plain": [
              "Region                 object\n",
              "Main_brand             object\n",
              "Category               object\n",
              "Age                    object\n",
              "Gender                 object\n",
              "Nationality            object\n",
              "OSAT                   object\n",
              "Communication         float64\n",
              "Ontime                float64\n",
              "Proposition           float64\n",
              "Delivery_fees         float64\n",
              "Restaurant_options    float64\n",
              "Grocery_options       float64\n",
              "Ease_usage            float64\n",
              "Delivery_process      float64\n",
              "App_sat               float64\n",
              "time_deliveryboy      float64\n",
              "Customer_support      float64\n",
              "Payment_process       float64\n",
              "Paying_               float64\n",
              "Product_quality       float64\n",
              "dtype: object"
            ]
          },
          "metadata": {
            "tags": []
          },
          "execution_count": 4
        }
      ]
    },
    {
      "cell_type": "code",
      "metadata": {
        "colab": {
          "base_uri": "https://localhost:8080/"
        },
        "id": "nAOFfTNJl8i4",
        "outputId": "4eb4f58f-b023-4b33-d2f6-d1c0982d2074"
      },
      "source": [
        "df[\"OSAT\"] = pd.to_numeric(df.OSAT, errors='coerce')\r\n",
        "df.dtypes"
      ],
      "execution_count": 5,
      "outputs": [
        {
          "output_type": "execute_result",
          "data": {
            "text/plain": [
              "Region                 object\n",
              "Main_brand             object\n",
              "Category               object\n",
              "Age                    object\n",
              "Gender                 object\n",
              "Nationality            object\n",
              "OSAT                  float64\n",
              "Communication         float64\n",
              "Ontime                float64\n",
              "Proposition           float64\n",
              "Delivery_fees         float64\n",
              "Restaurant_options    float64\n",
              "Grocery_options       float64\n",
              "Ease_usage            float64\n",
              "Delivery_process      float64\n",
              "App_sat               float64\n",
              "time_deliveryboy      float64\n",
              "Customer_support      float64\n",
              "Payment_process       float64\n",
              "Paying_               float64\n",
              "Product_quality       float64\n",
              "dtype: object"
            ]
          },
          "metadata": {
            "tags": []
          },
          "execution_count": 5
        }
      ]
    },
    {
      "cell_type": "code",
      "metadata": {
        "colab": {
          "base_uri": "https://localhost:8080/"
        },
        "id": "9DKvXxdDa6er",
        "outputId": "ec29a762-d822-4175-a8bc-eb1a6778aa32"
      },
      "source": [
        "df.isnull().sum()"
      ],
      "execution_count": 6,
      "outputs": [
        {
          "output_type": "execute_result",
          "data": {
            "text/plain": [
              "Region                  0\n",
              "Main_brand              0\n",
              "Category                0\n",
              "Age                     0\n",
              "Gender                  0\n",
              "Nationality             0\n",
              "OSAT                    8\n",
              "Communication          35\n",
              "Ontime                 31\n",
              "Proposition            35\n",
              "Delivery_fees          44\n",
              "Restaurant_options     49\n",
              "Grocery_options        93\n",
              "Ease_usage             57\n",
              "Delivery_process       56\n",
              "App_sat                68\n",
              "time_deliveryboy       56\n",
              "Customer_support       91\n",
              "Payment_process        82\n",
              "Paying_               112\n",
              "Product_quality        82\n",
              "dtype: int64"
            ]
          },
          "metadata": {
            "tags": []
          },
          "execution_count": 6
        }
      ]
    },
    {
      "cell_type": "code",
      "metadata": {
        "id": "tTmpHwvGakJR"
      },
      "source": [
        "# Insert the missing values with the median of each column\r\n",
        "df['Communication'] = df['Communication'].fillna(value = df['Communication'].median())\r\n",
        "df['Ontime'] = df['Ontime'].fillna(value = df['Ontime'].median())\r\n",
        "df['Proposition'] = df['Proposition'].fillna(value = df['Proposition'].median())\r\n",
        "df['Delivery_fees'] = df['Delivery_fees'].fillna(value = df['Delivery_fees'].median())\r\n",
        "df['Restaurant_options'] = df['Restaurant_options'].fillna(value = df['Restaurant_options'].median())\r\n",
        "df['Grocery_options'] = df['Grocery_options'].fillna(value = df['Grocery_options'].median())\r\n",
        "df['Ease_usage'] = df['Ease_usage'].fillna(value = df['Ease_usage'].median())\r\n",
        "df['Delivery_process'] = df['Delivery_process'].fillna(value = df['Delivery_process'].median())\r\n",
        "df['App_sat'] = df['App_sat'].fillna(value = df['App_sat'].median())\r\n",
        "df['time_deliveryboy'] = df['time_deliveryboy'].fillna(value = df['time_deliveryboy'].median())\r\n",
        "df['Customer_support'] = df['Customer_support'].fillna(value = df['Customer_support'].median())\r\n",
        "df['Payment_process'] = df['Payment_process'].fillna(value = df['Payment_process'].median())\r\n",
        "df['Paying_'] = df['Paying_'].fillna(value = df['Paying_'].median())\r\n",
        "df['Product_quality'] = df['Product_quality'].fillna(value = df['Product_quality'].median())\r\n",
        "df['OSAT'] = df['OSAT'].fillna(value = df['OSAT'].median())"
      ],
      "execution_count": 7,
      "outputs": []
    },
    {
      "cell_type": "code",
      "metadata": {
        "colab": {
          "base_uri": "https://localhost:8080/"
        },
        "id": "sqgGbsXJdBSc",
        "outputId": "d27ea14f-44d8-4eed-faeb-e752b3414c17"
      },
      "source": [
        "df.isnull().sum()"
      ],
      "execution_count": 8,
      "outputs": [
        {
          "output_type": "execute_result",
          "data": {
            "text/plain": [
              "Region                0\n",
              "Main_brand            0\n",
              "Category              0\n",
              "Age                   0\n",
              "Gender                0\n",
              "Nationality           0\n",
              "OSAT                  0\n",
              "Communication         0\n",
              "Ontime                0\n",
              "Proposition           0\n",
              "Delivery_fees         0\n",
              "Restaurant_options    0\n",
              "Grocery_options       0\n",
              "Ease_usage            0\n",
              "Delivery_process      0\n",
              "App_sat               0\n",
              "time_deliveryboy      0\n",
              "Customer_support      0\n",
              "Payment_process       0\n",
              "Paying_               0\n",
              "Product_quality       0\n",
              "dtype: int64"
            ]
          },
          "metadata": {
            "tags": []
          },
          "execution_count": 8
        }
      ]
    },
    {
      "cell_type": "code",
      "metadata": {
        "colab": {
          "base_uri": "https://localhost:8080/",
          "height": 241
        },
        "id": "IvVfFSR4gEVu",
        "outputId": "684b578b-c978-4de1-95a7-23fe7ac37c81"
      },
      "source": [
        "## Convert the Object items to Number system\r\n",
        "df= pd.get_dummies(df,drop_first = True)\r\n",
        "df.head()"
      ],
      "execution_count": 9,
      "outputs": [
        {
          "output_type": "execute_result",
          "data": {
            "text/html": [
              "<div>\n",
              "<style scoped>\n",
              "    .dataframe tbody tr th:only-of-type {\n",
              "        vertical-align: middle;\n",
              "    }\n",
              "\n",
              "    .dataframe tbody tr th {\n",
              "        vertical-align: top;\n",
              "    }\n",
              "\n",
              "    .dataframe thead th {\n",
              "        text-align: right;\n",
              "    }\n",
              "</style>\n",
              "<table border=\"1\" class=\"dataframe\">\n",
              "  <thead>\n",
              "    <tr style=\"text-align: right;\">\n",
              "      <th></th>\n",
              "      <th>OSAT</th>\n",
              "      <th>Communication</th>\n",
              "      <th>Ontime</th>\n",
              "      <th>Proposition</th>\n",
              "      <th>Delivery_fees</th>\n",
              "      <th>Restaurant_options</th>\n",
              "      <th>Grocery_options</th>\n",
              "      <th>Ease_usage</th>\n",
              "      <th>Delivery_process</th>\n",
              "      <th>App_sat</th>\n",
              "      <th>time_deliveryboy</th>\n",
              "      <th>Customer_support</th>\n",
              "      <th>Payment_process</th>\n",
              "      <th>Paying_</th>\n",
              "      <th>Product_quality</th>\n",
              "      <th>Region_Eastern</th>\n",
              "      <th>Region_Northern</th>\n",
              "      <th>Region_South</th>\n",
              "      <th>Region_Western</th>\n",
              "      <th>Main_brand_Carriage</th>\n",
              "      <th>Main_brand_HungerStation</th>\n",
              "      <th>Main_brand_Jahez</th>\n",
              "      <th>Main_brand_MRSOOL</th>\n",
              "      <th>Main_brand_Nana</th>\n",
              "      <th>Main_brand_Ngwah</th>\n",
              "      <th>Main_brand_Talabat</th>\n",
              "      <th>Main_brand_ToYou</th>\n",
              "      <th>Main_brand_Wassel</th>\n",
              "      <th>Category_Grocery</th>\n",
              "      <th>Category_ODS</th>\n",
              "      <th>Category_Personal_care</th>\n",
              "      <th>Category_Pharmacies</th>\n",
              "      <th>Category_Restaurants</th>\n",
              "      <th>Age_30-39</th>\n",
              "      <th>Age_40-49</th>\n",
              "      <th>Age_50+</th>\n",
              "      <th>Gender_Male</th>\n",
              "      <th>Nationality_Expat Asians</th>\n",
              "      <th>Nationality_Nationals</th>\n",
              "    </tr>\n",
              "  </thead>\n",
              "  <tbody>\n",
              "    <tr>\n",
              "      <th>0</th>\n",
              "      <td>8.0</td>\n",
              "      <td>6.0</td>\n",
              "      <td>5.0</td>\n",
              "      <td>6.0</td>\n",
              "      <td>6.0</td>\n",
              "      <td>6.0</td>\n",
              "      <td>6.0</td>\n",
              "      <td>7.0</td>\n",
              "      <td>7.0</td>\n",
              "      <td>7.0</td>\n",
              "      <td>6.0</td>\n",
              "      <td>7.0</td>\n",
              "      <td>6.0</td>\n",
              "      <td>8.0</td>\n",
              "      <td>7.0</td>\n",
              "      <td>0</td>\n",
              "      <td>0</td>\n",
              "      <td>0</td>\n",
              "      <td>1</td>\n",
              "      <td>0</td>\n",
              "      <td>1</td>\n",
              "      <td>0</td>\n",
              "      <td>0</td>\n",
              "      <td>0</td>\n",
              "      <td>0</td>\n",
              "      <td>0</td>\n",
              "      <td>0</td>\n",
              "      <td>0</td>\n",
              "      <td>0</td>\n",
              "      <td>0</td>\n",
              "      <td>0</td>\n",
              "      <td>0</td>\n",
              "      <td>1</td>\n",
              "      <td>1</td>\n",
              "      <td>0</td>\n",
              "      <td>0</td>\n",
              "      <td>1</td>\n",
              "      <td>0</td>\n",
              "      <td>0</td>\n",
              "    </tr>\n",
              "    <tr>\n",
              "      <th>1</th>\n",
              "      <td>9.0</td>\n",
              "      <td>10.0</td>\n",
              "      <td>10.0</td>\n",
              "      <td>10.0</td>\n",
              "      <td>9.0</td>\n",
              "      <td>10.0</td>\n",
              "      <td>10.0</td>\n",
              "      <td>10.0</td>\n",
              "      <td>10.0</td>\n",
              "      <td>10.0</td>\n",
              "      <td>10.0</td>\n",
              "      <td>9.0</td>\n",
              "      <td>10.0</td>\n",
              "      <td>9.0</td>\n",
              "      <td>10.0</td>\n",
              "      <td>0</td>\n",
              "      <td>0</td>\n",
              "      <td>0</td>\n",
              "      <td>1</td>\n",
              "      <td>0</td>\n",
              "      <td>1</td>\n",
              "      <td>0</td>\n",
              "      <td>0</td>\n",
              "      <td>0</td>\n",
              "      <td>0</td>\n",
              "      <td>0</td>\n",
              "      <td>0</td>\n",
              "      <td>0</td>\n",
              "      <td>0</td>\n",
              "      <td>0</td>\n",
              "      <td>0</td>\n",
              "      <td>0</td>\n",
              "      <td>1</td>\n",
              "      <td>1</td>\n",
              "      <td>0</td>\n",
              "      <td>0</td>\n",
              "      <td>0</td>\n",
              "      <td>0</td>\n",
              "      <td>1</td>\n",
              "    </tr>\n",
              "    <tr>\n",
              "      <th>2</th>\n",
              "      <td>10.0</td>\n",
              "      <td>9.0</td>\n",
              "      <td>8.0</td>\n",
              "      <td>10.0</td>\n",
              "      <td>9.0</td>\n",
              "      <td>10.0</td>\n",
              "      <td>9.0</td>\n",
              "      <td>10.0</td>\n",
              "      <td>9.0</td>\n",
              "      <td>10.0</td>\n",
              "      <td>9.0</td>\n",
              "      <td>10.0</td>\n",
              "      <td>9.0</td>\n",
              "      <td>9.0</td>\n",
              "      <td>10.0</td>\n",
              "      <td>0</td>\n",
              "      <td>0</td>\n",
              "      <td>0</td>\n",
              "      <td>1</td>\n",
              "      <td>0</td>\n",
              "      <td>1</td>\n",
              "      <td>0</td>\n",
              "      <td>0</td>\n",
              "      <td>0</td>\n",
              "      <td>0</td>\n",
              "      <td>0</td>\n",
              "      <td>0</td>\n",
              "      <td>0</td>\n",
              "      <td>0</td>\n",
              "      <td>0</td>\n",
              "      <td>0</td>\n",
              "      <td>0</td>\n",
              "      <td>1</td>\n",
              "      <td>1</td>\n",
              "      <td>0</td>\n",
              "      <td>0</td>\n",
              "      <td>1</td>\n",
              "      <td>0</td>\n",
              "      <td>1</td>\n",
              "    </tr>\n",
              "    <tr>\n",
              "      <th>3</th>\n",
              "      <td>7.0</td>\n",
              "      <td>9.0</td>\n",
              "      <td>9.0</td>\n",
              "      <td>9.0</td>\n",
              "      <td>9.0</td>\n",
              "      <td>9.0</td>\n",
              "      <td>9.0</td>\n",
              "      <td>9.0</td>\n",
              "      <td>9.0</td>\n",
              "      <td>9.0</td>\n",
              "      <td>9.0</td>\n",
              "      <td>9.0</td>\n",
              "      <td>9.0</td>\n",
              "      <td>8.0</td>\n",
              "      <td>9.0</td>\n",
              "      <td>0</td>\n",
              "      <td>0</td>\n",
              "      <td>0</td>\n",
              "      <td>1</td>\n",
              "      <td>0</td>\n",
              "      <td>1</td>\n",
              "      <td>0</td>\n",
              "      <td>0</td>\n",
              "      <td>0</td>\n",
              "      <td>0</td>\n",
              "      <td>0</td>\n",
              "      <td>0</td>\n",
              "      <td>0</td>\n",
              "      <td>0</td>\n",
              "      <td>0</td>\n",
              "      <td>0</td>\n",
              "      <td>0</td>\n",
              "      <td>1</td>\n",
              "      <td>0</td>\n",
              "      <td>1</td>\n",
              "      <td>0</td>\n",
              "      <td>1</td>\n",
              "      <td>1</td>\n",
              "      <td>0</td>\n",
              "    </tr>\n",
              "    <tr>\n",
              "      <th>4</th>\n",
              "      <td>6.0</td>\n",
              "      <td>8.0</td>\n",
              "      <td>7.0</td>\n",
              "      <td>7.0</td>\n",
              "      <td>6.0</td>\n",
              "      <td>6.0</td>\n",
              "      <td>6.0</td>\n",
              "      <td>5.0</td>\n",
              "      <td>7.0</td>\n",
              "      <td>7.0</td>\n",
              "      <td>5.0</td>\n",
              "      <td>6.0</td>\n",
              "      <td>6.0</td>\n",
              "      <td>6.0</td>\n",
              "      <td>6.0</td>\n",
              "      <td>0</td>\n",
              "      <td>0</td>\n",
              "      <td>0</td>\n",
              "      <td>0</td>\n",
              "      <td>0</td>\n",
              "      <td>1</td>\n",
              "      <td>0</td>\n",
              "      <td>0</td>\n",
              "      <td>0</td>\n",
              "      <td>0</td>\n",
              "      <td>0</td>\n",
              "      <td>0</td>\n",
              "      <td>0</td>\n",
              "      <td>0</td>\n",
              "      <td>0</td>\n",
              "      <td>0</td>\n",
              "      <td>0</td>\n",
              "      <td>1</td>\n",
              "      <td>1</td>\n",
              "      <td>0</td>\n",
              "      <td>0</td>\n",
              "      <td>0</td>\n",
              "      <td>0</td>\n",
              "      <td>1</td>\n",
              "    </tr>\n",
              "  </tbody>\n",
              "</table>\n",
              "</div>"
            ],
            "text/plain": [
              "   OSAT  Communication  ...  Nationality_Expat Asians  Nationality_Nationals\n",
              "0   8.0            6.0  ...                         0                      0\n",
              "1   9.0           10.0  ...                         0                      1\n",
              "2  10.0            9.0  ...                         0                      1\n",
              "3   7.0            9.0  ...                         1                      0\n",
              "4   6.0            8.0  ...                         0                      1\n",
              "\n",
              "[5 rows x 39 columns]"
            ]
          },
          "metadata": {
            "tags": []
          },
          "execution_count": 9
        }
      ]
    },
    {
      "cell_type": "code",
      "metadata": {
        "id": "Grc1VYwj2gzu",
        "outputId": "cd7f18ed-968d-4455-a202-8b9b3727bd52",
        "colab": {
          "base_uri": "https://localhost:8080/"
        }
      },
      "source": [
        "! pip install factor_analyzer\r\n",
        "from factor_analyzer import FactorAnalyzer"
      ],
      "execution_count": 10,
      "outputs": [
        {
          "output_type": "stream",
          "text": [
            "Collecting factor_analyzer\n",
            "\u001b[?25l  Downloading https://files.pythonhosted.org/packages/44/b5/cbd83484ca6dd4c6562c6d66a6a3a0ecf526e79b2b575b9fb4bf5ad172dd/factor_analyzer-0.3.2.tar.gz (40kB)\n",
            "\r\u001b[K     |████████▏                       | 10kB 15.1MB/s eta 0:00:01\r\u001b[K     |████████████████▍               | 20kB 20.5MB/s eta 0:00:01\r\u001b[K     |████████████████████████▌       | 30kB 12.9MB/s eta 0:00:01\r\u001b[K     |████████████████████████████████| 40kB 3.5MB/s \n",
            "\u001b[?25hRequirement already satisfied: pandas in /usr/local/lib/python3.6/dist-packages (from factor_analyzer) (1.1.5)\n",
            "Requirement already satisfied: scipy in /usr/local/lib/python3.6/dist-packages (from factor_analyzer) (1.4.1)\n",
            "Requirement already satisfied: numpy in /usr/local/lib/python3.6/dist-packages (from factor_analyzer) (1.19.5)\n",
            "Requirement already satisfied: scikit-learn in /usr/local/lib/python3.6/dist-packages (from factor_analyzer) (0.22.2.post1)\n",
            "Requirement already satisfied: pytz>=2017.2 in /usr/local/lib/python3.6/dist-packages (from pandas->factor_analyzer) (2018.9)\n",
            "Requirement already satisfied: python-dateutil>=2.7.3 in /usr/local/lib/python3.6/dist-packages (from pandas->factor_analyzer) (2.8.1)\n",
            "Requirement already satisfied: joblib>=0.11 in /usr/local/lib/python3.6/dist-packages (from scikit-learn->factor_analyzer) (1.0.0)\n",
            "Requirement already satisfied: six>=1.5 in /usr/local/lib/python3.6/dist-packages (from python-dateutil>=2.7.3->pandas->factor_analyzer) (1.15.0)\n",
            "Building wheels for collected packages: factor-analyzer\n",
            "  Building wheel for factor-analyzer (setup.py) ... \u001b[?25l\u001b[?25hdone\n",
            "  Created wheel for factor-analyzer: filename=factor_analyzer-0.3.2-cp36-none-any.whl size=40380 sha256=14ad6b557d5a308f45aed323c5be43f903defc2a27dffdd6e286f9607e43a59d\n",
            "  Stored in directory: /root/.cache/pip/wheels/4a/d0/57/f1330cb9c80e82d8d05391c74c94ed61ce3f03bf6157f3d6db\n",
            "Successfully built factor-analyzer\n",
            "Installing collected packages: factor-analyzer\n",
            "Successfully installed factor-analyzer-0.3.2\n"
          ],
          "name": "stdout"
        }
      ]
    },
    {
      "cell_type": "code",
      "metadata": {
        "id": "S9XrBEia22QZ",
        "outputId": "16fdd859-4881-471a-890d-a504e590e73f",
        "colab": {
          "base_uri": "https://localhost:8080/"
        }
      },
      "source": [
        "from factor_analyzer.factor_analyzer import calculate_bartlett_sphericity\r\n",
        "chi_square_value,p_value=calculate_bartlett_sphericity(df)\r\n",
        "chi_square_value, p_value"
      ],
      "execution_count": 11,
      "outputs": [
        {
          "output_type": "execute_result",
          "data": {
            "text/plain": [
              "(68148.32716880916, 0.0)"
            ]
          },
          "metadata": {
            "tags": []
          },
          "execution_count": 11
        }
      ]
    },
    {
      "cell_type": "code",
      "metadata": {
        "id": "wR5R1hDS3Jkr",
        "outputId": "a8394485-d3bb-4eaf-c767-912c1eb78dad",
        "colab": {
          "base_uri": "https://localhost:8080/"
        }
      },
      "source": [
        "from factor_analyzer.factor_analyzer import calculate_kmo\r\n",
        "kmo_all,kmo_model=calculate_kmo(df)\r\n",
        "kmo_model"
      ],
      "execution_count": 12,
      "outputs": [
        {
          "output_type": "stream",
          "text": [
            "/usr/local/lib/python3.6/dist-packages/factor_analyzer/utils.py:248: UserWarning: The inverse of the variance-covariance matrix was calculated using the Moore-Penrose generalized matrix inversion, due to its determinant being at or very close to zero.\n",
            "  warnings.warn('The inverse of the variance-covariance matrix '\n"
          ],
          "name": "stderr"
        },
        {
          "output_type": "execute_result",
          "data": {
            "text/plain": [
              "0.8388703064817707"
            ]
          },
          "metadata": {
            "tags": []
          },
          "execution_count": 12
        }
      ]
    },
    {
      "cell_type": "code",
      "metadata": {
        "id": "0MMZRrTisf1a"
      },
      "source": [
        "df.drop(['Proposition','time_deliveryboy','Paying_'], axis = 1, inplace = True)\r\n"
      ],
      "execution_count": 13,
      "outputs": []
    },
    {
      "cell_type": "code",
      "metadata": {
        "colab": {
          "base_uri": "https://localhost:8080/"
        },
        "id": "_gXi7LIlobsa",
        "outputId": "950af85b-3d07-4118-e5cb-273e2b92c736"
      },
      "source": [
        "df.columns"
      ],
      "execution_count": 14,
      "outputs": [
        {
          "output_type": "execute_result",
          "data": {
            "text/plain": [
              "Index(['OSAT', 'Communication', 'Ontime', 'Delivery_fees',\n",
              "       'Restaurant_options', 'Grocery_options', 'Ease_usage',\n",
              "       'Delivery_process', 'App_sat', 'Customer_support', 'Payment_process',\n",
              "       'Product_quality', 'Region_Eastern', 'Region_Northern', 'Region_South',\n",
              "       'Region_Western', 'Main_brand_Carriage', 'Main_brand_HungerStation',\n",
              "       'Main_brand_Jahez', 'Main_brand_MRSOOL', 'Main_brand_Nana',\n",
              "       'Main_brand_Ngwah', 'Main_brand_Talabat', 'Main_brand_ToYou',\n",
              "       'Main_brand_Wassel', 'Category_Grocery', 'Category_ODS',\n",
              "       'Category_Personal_care', 'Category_Pharmacies', 'Category_Restaurants',\n",
              "       'Age_30-39', 'Age_40-49', 'Age_50+', 'Gender_Male',\n",
              "       'Nationality_Expat Asians', 'Nationality_Nationals'],\n",
              "      dtype='object')"
            ]
          },
          "metadata": {
            "tags": []
          },
          "execution_count": 14
        }
      ]
    },
    {
      "cell_type": "code",
      "metadata": {
        "id": "QdfLTTJTihyf"
      },
      "source": [
        "x = df.drop('OSAT',axis=1)\r\n",
        "y = df['OSAT']"
      ],
      "execution_count": 15,
      "outputs": []
    },
    {
      "cell_type": "code",
      "metadata": {
        "id": "VGJ2vdXNwNJC"
      },
      "source": [
        "gg = df[['Communication', 'Ontime', 'Delivery_fees','Restaurant_options', 'Grocery_options', 'Ease_usage','Delivery_process', 'App_sat', 'Customer_support','Payment_process', 'Product_quality']]"
      ],
      "execution_count": 16,
      "outputs": []
    },
    {
      "cell_type": "code",
      "metadata": {
        "colab": {
          "base_uri": "https://localhost:8080/",
          "height": 807
        },
        "id": "4HdvyDfWvT1m",
        "outputId": "833526e0-943b-4940-8826-0800c26c4e35"
      },
      "source": [
        "plt.figure(figsize=(20,12))\r\n",
        "sns.heatmap(gg.corr(), annot = True)"
      ],
      "execution_count": 17,
      "outputs": [
        {
          "output_type": "execute_result",
          "data": {
            "text/plain": [
              "<matplotlib.axes._subplots.AxesSubplot at 0x7f75948ca860>"
            ]
          },
          "metadata": {
            "tags": []
          },
          "execution_count": 17
        },
        {
          "output_type": "display_data",
          "data": {
            "image/png": "[encoded data removed]",
            "text/plain": [
              "<Figure size 1440x864 with 2 Axes>"
            ]
          },
          "metadata": {
            "tags": [],
            "needs_background": "light"
          }
        }
      ]
    },
    {
      "cell_type": "code",
      "metadata": {
        "id": "wqhmFEmqi76j"
      },
      "source": [
        "\r\n",
        "from sklearn.model_selection import train_test_split\r\n",
        "x_train,x_test,y_train,y_test = train_test_split(x,y,test_size= 0.25, random_state= 10)"
      ],
      "execution_count": 18,
      "outputs": []
    },
    {
      "cell_type": "code",
      "metadata": {
        "colab": {
          "base_uri": "https://localhost:8080/"
        },
        "id": "dOGui8qejP4X",
        "outputId": "bf31b095-6877-4480-b432-2c7b9ffa86e5"
      },
      "source": [
        "from sklearn.linear_model import LinearRegression\r\n",
        "model1 = LinearRegression()\r\n",
        "model1.fit(x_train,y_train)\r\n"
      ],
      "execution_count": 19,
      "outputs": [
        {
          "output_type": "execute_result",
          "data": {
            "text/plain": [
              "LinearRegression(copy_X=True, fit_intercept=True, n_jobs=None, normalize=False)"
            ]
          },
          "metadata": {
            "tags": []
          },
          "execution_count": 19
        }
      ]
    },
    {
      "cell_type": "code",
      "metadata": {
        "colab": {
          "base_uri": "https://localhost:8080/"
        },
        "id": "FDpm7mPbjiEW",
        "outputId": "9488bfed-55c5-4853-98f3-b7898a6f6edb"
      },
      "source": [
        "model1.score(x_test,y_test)"
      ],
      "execution_count": 20,
      "outputs": [
        {
          "output_type": "execute_result",
          "data": {
            "text/plain": [
              "0.487453263685423"
            ]
          },
          "metadata": {
            "tags": []
          },
          "execution_count": 20
        }
      ]
    },
    {
      "cell_type": "code",
      "metadata": {
        "colab": {
          "base_uri": "https://localhost:8080/"
        },
        "id": "ioGqHGqCj9yA",
        "outputId": "68ece586-6761-4b42-80a2-0445f5827185"
      },
      "source": [
        "model1.coef_"
      ],
      "execution_count": 21,
      "outputs": [
        {
          "output_type": "execute_result",
          "data": {
            "text/plain": [
              "array([ 0.26670057,  0.12325255,  0.02933858, -0.01512153,  0.01729262,\n",
              "        0.02693474, -0.00250937,  0.04191245,  0.03400599,  0.04457361,\n",
              "        0.04109919, -0.06064933, -0.14242258, -0.065701  , -0.03055703,\n",
              "        0.02761964, -0.01188124,  0.18293042,  0.07571604, -0.14828591,\n",
              "        0.43241055, -0.20388244,  0.21324196, -0.34631155,  0.23218497,\n",
              "       -0.00943113, -0.01277441,  0.14416785,  0.37803322,  0.12095572,\n",
              "        0.05880884,  0.12665135, -0.09535388,  0.11771373,  0.11633027])"
            ]
          },
          "metadata": {
            "tags": []
          },
          "execution_count": 21
        }
      ]
    },
    {
      "cell_type": "code",
      "metadata": {
        "colab": {
          "base_uri": "https://localhost:8080/"
        },
        "id": "aPuxnpCHlHvR",
        "outputId": "e6a75cc8-6c90-43a7-e6f3-95069521ca41"
      },
      "source": [
        "model1.intercept_"
      ],
      "execution_count": 22,
      "outputs": [
        {
          "output_type": "execute_result",
          "data": {
            "text/plain": [
              "3.0230166850690603"
            ]
          },
          "metadata": {
            "tags": []
          },
          "execution_count": 22
        }
      ]
    },
    {
      "cell_type": "code",
      "metadata": {
        "id": "FVnFp40gycG8",
        "outputId": "df9127a2-8316-4f82-85ed-3b3fed5865bd",
        "colab": {
          "base_uri": "https://localhost:8080/"
        }
      },
      "source": [
        "!pip install relativeImp"
      ],
      "execution_count": 23,
      "outputs": [
        {
          "output_type": "stream",
          "text": [
            "Collecting relativeImp\n",
            "  Downloading https://files.pythonhosted.org/packages/2e/a6/d02857fb2ffb19d3660e70a1ab7bff9308f914351e0b00ad8a0da3c8de63/relativeImp-0.0.2-py3-none-any.whl\n",
            "Requirement already satisfied: pandas in /usr/local/lib/python3.6/dist-packages (from relativeImp) (1.1.5)\n",
            "Requirement already satisfied: numpy in /usr/local/lib/python3.6/dist-packages (from relativeImp) (1.19.5)\n",
            "Requirement already satisfied: pytz>=2017.2 in /usr/local/lib/python3.6/dist-packages (from pandas->relativeImp) (2018.9)\n",
            "Requirement already satisfied: python-dateutil>=2.7.3 in /usr/local/lib/python3.6/dist-packages (from pandas->relativeImp) (2.8.1)\n",
            "Requirement already satisfied: six>=1.5 in /usr/local/lib/python3.6/dist-packages (from python-dateutil>=2.7.3->pandas->relativeImp) (1.15.0)\n",
            "Installing collected packages: relativeImp\n",
            "Successfully installed relativeImp-0.0.2\n"
          ],
          "name": "stdout"
        }
      ]
    },
    {
      "cell_type": "code",
      "metadata": {
        "id": "sRw-Q62wyiSL"
      },
      "source": [
        "from relativeImp import relativeImp"
      ],
      "execution_count": 24,
      "outputs": []
    },
    {
      "cell_type": "code",
      "metadata": {
        "colab": {
          "base_uri": "https://localhost:8080/",
          "height": 390
        },
        "id": "fUVPvKZGtt0J",
        "outputId": "3b1fe543-bac3-4429-af20-511ab9a43a4e"
      },
      "source": [
        "xNames = ['Communication', 'Ontime', 'Delivery_fees',\r\n",
        "       'Restaurant_options', 'Grocery_options', 'Ease_usage',\r\n",
        "       'Delivery_process', 'App_sat', 'Customer_support',\r\n",
        "       'Payment_process', 'Product_quality']\r\n",
        "yName = 'OSAT'\r\n",
        "\r\n",
        "df_results = relativeImp(df, outcomeName = yName, driverNames = xNames)\r\n",
        "df_results"
      ],
      "execution_count": 25,
      "outputs": [
        {
          "output_type": "execute_result",
          "data": {
            "text/html": [
              "<div>\n",
              "<style scoped>\n",
              "    .dataframe tbody tr th:only-of-type {\n",
              "        vertical-align: middle;\n",
              "    }\n",
              "\n",
              "    .dataframe tbody tr th {\n",
              "        vertical-align: top;\n",
              "    }\n",
              "\n",
              "    .dataframe thead th {\n",
              "        text-align: right;\n",
              "    }\n",
              "</style>\n",
              "<table border=\"1\" class=\"dataframe\">\n",
              "  <thead>\n",
              "    <tr style=\"text-align: right;\">\n",
              "      <th></th>\n",
              "      <th>driver</th>\n",
              "      <th>rawRelaImpt</th>\n",
              "      <th>normRelaImpt</th>\n",
              "    </tr>\n",
              "  </thead>\n",
              "  <tbody>\n",
              "    <tr>\n",
              "      <th>0</th>\n",
              "      <td>Communication</td>\n",
              "      <td>0.080771</td>\n",
              "      <td>19.457002</td>\n",
              "    </tr>\n",
              "    <tr>\n",
              "      <th>1</th>\n",
              "      <td>Ontime</td>\n",
              "      <td>0.052971</td>\n",
              "      <td>12.760284</td>\n",
              "    </tr>\n",
              "    <tr>\n",
              "      <th>2</th>\n",
              "      <td>Delivery_fees</td>\n",
              "      <td>0.032925</td>\n",
              "      <td>7.931408</td>\n",
              "    </tr>\n",
              "    <tr>\n",
              "      <th>3</th>\n",
              "      <td>Restaurant_options</td>\n",
              "      <td>0.029901</td>\n",
              "      <td>7.202933</td>\n",
              "    </tr>\n",
              "    <tr>\n",
              "      <th>4</th>\n",
              "      <td>Grocery_options</td>\n",
              "      <td>0.026322</td>\n",
              "      <td>6.340677</td>\n",
              "    </tr>\n",
              "    <tr>\n",
              "      <th>5</th>\n",
              "      <td>Ease_usage</td>\n",
              "      <td>0.032996</td>\n",
              "      <td>7.948543</td>\n",
              "    </tr>\n",
              "    <tr>\n",
              "      <th>6</th>\n",
              "      <td>Delivery_process</td>\n",
              "      <td>0.029547</td>\n",
              "      <td>7.117641</td>\n",
              "    </tr>\n",
              "    <tr>\n",
              "      <th>7</th>\n",
              "      <td>App_sat</td>\n",
              "      <td>0.032987</td>\n",
              "      <td>7.946229</td>\n",
              "    </tr>\n",
              "    <tr>\n",
              "      <th>8</th>\n",
              "      <td>Customer_support</td>\n",
              "      <td>0.031006</td>\n",
              "      <td>7.469082</td>\n",
              "    </tr>\n",
              "    <tr>\n",
              "      <th>9</th>\n",
              "      <td>Payment_process</td>\n",
              "      <td>0.031013</td>\n",
              "      <td>7.470725</td>\n",
              "    </tr>\n",
              "    <tr>\n",
              "      <th>10</th>\n",
              "      <td>Product_quality</td>\n",
              "      <td>0.034686</td>\n",
              "      <td>8.355475</td>\n",
              "    </tr>\n",
              "  </tbody>\n",
              "</table>\n",
              "</div>"
            ],
            "text/plain": [
              "                driver  rawRelaImpt  normRelaImpt\n",
              "0        Communication     0.080771     19.457002\n",
              "1               Ontime     0.052971     12.760284\n",
              "2        Delivery_fees     0.032925      7.931408\n",
              "3   Restaurant_options     0.029901      7.202933\n",
              "4      Grocery_options     0.026322      6.340677\n",
              "5           Ease_usage     0.032996      7.948543\n",
              "6     Delivery_process     0.029547      7.117641\n",
              "7              App_sat     0.032987      7.946229\n",
              "8     Customer_support     0.031006      7.469082\n",
              "9      Payment_process     0.031013      7.470725\n",
              "10     Product_quality     0.034686      8.355475"
            ]
          },
          "metadata": {
            "tags": []
          },
          "execution_count": 25
        }
      ]
    },
    {
      "cell_type": "code",
      "metadata": {
        "id": "wP3l4MGrugr3",
        "outputId": "3fcf93e0-0e82-40a8-a1e9-7408e98ab1c2",
        "colab": {
          "base_uri": "https://localhost:8080/",
          "height": 390
        }
      },
      "source": [
        "from pandas import DataFrame\r\n",
        "df_results.sort_values(by=['normRelaImpt'], ascending= False)"
      ],
      "execution_count": 26,
      "outputs": [
        {
          "output_type": "execute_result",
          "data": {
            "text/html": [
              "<div>\n",
              "<style scoped>\n",
              "    .dataframe tbody tr th:only-of-type {\n",
              "        vertical-align: middle;\n",
              "    }\n",
              "\n",
              "    .dataframe tbody tr th {\n",
              "        vertical-align: top;\n",
              "    }\n",
              "\n",
              "    .dataframe thead th {\n",
              "        text-align: right;\n",
              "    }\n",
              "</style>\n",
              "<table border=\"1\" class=\"dataframe\">\n",
              "  <thead>\n",
              "    <tr style=\"text-align: right;\">\n",
              "      <th></th>\n",
              "      <th>driver</th>\n",
              "      <th>rawRelaImpt</th>\n",
              "      <th>normRelaImpt</th>\n",
              "    </tr>\n",
              "  </thead>\n",
              "  <tbody>\n",
              "    <tr>\n",
              "      <th>0</th>\n",
              "      <td>Communication</td>\n",
              "      <td>0.080771</td>\n",
              "      <td>19.457002</td>\n",
              "    </tr>\n",
              "    <tr>\n",
              "      <th>1</th>\n",
              "      <td>Ontime</td>\n",
              "      <td>0.052971</td>\n",
              "      <td>12.760284</td>\n",
              "    </tr>\n",
              "    <tr>\n",
              "      <th>10</th>\n",
              "      <td>Product_quality</td>\n",
              "      <td>0.034686</td>\n",
              "      <td>8.355475</td>\n",
              "    </tr>\n",
              "    <tr>\n",
              "      <th>5</th>\n",
              "      <td>Ease_usage</td>\n",
              "      <td>0.032996</td>\n",
              "      <td>7.948543</td>\n",
              "    </tr>\n",
              "    <tr>\n",
              "      <th>7</th>\n",
              "      <td>App_sat</td>\n",
              "      <td>0.032987</td>\n",
              "      <td>7.946229</td>\n",
              "    </tr>\n",
              "    <tr>\n",
              "      <th>2</th>\n",
              "      <td>Delivery_fees</td>\n",
              "      <td>0.032925</td>\n",
              "      <td>7.931408</td>\n",
              "    </tr>\n",
              "    <tr>\n",
              "      <th>9</th>\n",
              "      <td>Payment_process</td>\n",
              "      <td>0.031013</td>\n",
              "      <td>7.470725</td>\n",
              "    </tr>\n",
              "    <tr>\n",
              "      <th>8</th>\n",
              "      <td>Customer_support</td>\n",
              "      <td>0.031006</td>\n",
              "      <td>7.469082</td>\n",
              "    </tr>\n",
              "    <tr>\n",
              "      <th>3</th>\n",
              "      <td>Restaurant_options</td>\n",
              "      <td>0.029901</td>\n",
              "      <td>7.202933</td>\n",
              "    </tr>\n",
              "    <tr>\n",
              "      <th>6</th>\n",
              "      <td>Delivery_process</td>\n",
              "      <td>0.029547</td>\n",
              "      <td>7.117641</td>\n",
              "    </tr>\n",
              "    <tr>\n",
              "      <th>4</th>\n",
              "      <td>Grocery_options</td>\n",
              "      <td>0.026322</td>\n",
              "      <td>6.340677</td>\n",
              "    </tr>\n",
              "  </tbody>\n",
              "</table>\n",
              "</div>"
            ],
            "text/plain": [
              "                driver  rawRelaImpt  normRelaImpt\n",
              "0        Communication     0.080771     19.457002\n",
              "1               Ontime     0.052971     12.760284\n",
              "10     Product_quality     0.034686      8.355475\n",
              "5           Ease_usage     0.032996      7.948543\n",
              "7              App_sat     0.032987      7.946229\n",
              "2        Delivery_fees     0.032925      7.931408\n",
              "9      Payment_process     0.031013      7.470725\n",
              "8     Customer_support     0.031006      7.469082\n",
              "3   Restaurant_options     0.029901      7.202933\n",
              "6     Delivery_process     0.029547      7.117641\n",
              "4      Grocery_options     0.026322      6.340677"
            ]
          },
          "metadata": {
            "tags": []
          },
          "execution_count": 26
        }
      ]
    },
    {
      "cell_type": "code",
      "metadata": {
        "id": "wLsPttDsy62b",
        "outputId": "92c4ad38-8dbe-476a-b109-766ff8f1b84d",
        "colab": {
          "base_uri": "https://localhost:8080/"
        }
      },
      "source": [
        "! pip install semopy"
      ],
      "execution_count": 27,
      "outputs": [
        {
          "output_type": "stream",
          "text": [
            "Collecting semopy\n",
            "\u001b[?25l  Downloading https://files.pythonhosted.org/packages/b8/3e/4d06b1584088e0272afae704bd109f1850f6081ea6994f15fe035de865ed/semopy-2.0.15.tar.gz (144kB)\n",
            "\r\u001b[K     |██▎                             | 10kB 17.1MB/s eta 0:00:01\r\u001b[K     |████▌                           | 20kB 22.9MB/s eta 0:00:01\r\u001b[K     |██████▉                         | 30kB 12.4MB/s eta 0:00:01\r\u001b[K     |█████████                       | 40kB 9.2MB/s eta 0:00:01\r\u001b[K     |███████████▎                    | 51kB 8.2MB/s eta 0:00:01\r\u001b[K     |█████████████▋                  | 61kB 8.1MB/s eta 0:00:01\r\u001b[K     |███████████████▉                | 71kB 8.1MB/s eta 0:00:01\r\u001b[K     |██████████████████              | 81kB 8.0MB/s eta 0:00:01\r\u001b[K     |████████████████████▍           | 92kB 8.1MB/s eta 0:00:01\r\u001b[K     |██████████████████████▋         | 102kB 7.5MB/s eta 0:00:01\r\u001b[K     |████████████████████████▉       | 112kB 7.5MB/s eta 0:00:01\r\u001b[K     |███████████████████████████▏    | 122kB 7.5MB/s eta 0:00:01\r\u001b[K     |█████████████████████████████▍  | 133kB 7.5MB/s eta 0:00:01\r\u001b[K     |███████████████████████████████▊| 143kB 7.5MB/s eta 0:00:01\r\u001b[K     |████████████████████████████████| 153kB 7.5MB/s \n",
            "\u001b[?25hRequirement already satisfied: scipy in /usr/local/lib/python3.6/dist-packages (from semopy) (1.4.1)\n",
            "Requirement already satisfied: numpy in /usr/local/lib/python3.6/dist-packages (from semopy) (1.19.5)\n",
            "Requirement already satisfied: pandas in /usr/local/lib/python3.6/dist-packages (from semopy) (1.1.5)\n",
            "Requirement already satisfied: sympy in /usr/local/lib/python3.6/dist-packages (from semopy) (1.1.1)\n",
            "Requirement already satisfied: sklearn in /usr/local/lib/python3.6/dist-packages (from semopy) (0.0)\n",
            "Requirement already satisfied: statsmodels in /usr/local/lib/python3.6/dist-packages (from semopy) (0.10.2)\n",
            "Requirement already satisfied: pytz>=2017.2 in /usr/local/lib/python3.6/dist-packages (from pandas->semopy) (2018.9)\n",
            "Requirement already satisfied: python-dateutil>=2.7.3 in /usr/local/lib/python3.6/dist-packages (from pandas->semopy) (2.8.1)\n",
            "Requirement already satisfied: mpmath>=0.19 in /usr/local/lib/python3.6/dist-packages (from sympy->semopy) (1.1.0)\n",
            "Requirement already satisfied: scikit-learn in /usr/local/lib/python3.6/dist-packages (from sklearn->semopy) (0.22.2.post1)\n",
            "Requirement already satisfied: patsy>=0.4.0 in /usr/local/lib/python3.6/dist-packages (from statsmodels->semopy) (0.5.1)\n",
            "Requirement already satisfied: six>=1.5 in /usr/local/lib/python3.6/dist-packages (from python-dateutil>=2.7.3->pandas->semopy) (1.15.0)\n",
            "Requirement already satisfied: joblib>=0.11 in /usr/local/lib/python3.6/dist-packages (from scikit-learn->sklearn->semopy) (1.0.0)\n",
            "Building wheels for collected packages: semopy\n",
            "  Building wheel for semopy (setup.py) ... \u001b[?25l\u001b[?25hdone\n",
            "  Created wheel for semopy: filename=semopy-2.0.15-cp36-none-any.whl size=152552 sha256=7493d2133a68ccfe3aa5ccef4a3ebe7eeffd0eea232b9315334b01be8cd5b415\n",
            "  Stored in directory: /root/.cache/pip/wheels/3a/43/01/9ab1f86e27d5a7fe90dc26c52115ffddd6d262a7d857cc688d\n",
            "Successfully built semopy\n",
            "Installing collected packages: semopy\n",
            "Successfully installed semopy-2.0.15\n"
          ],
          "name": "stdout"
        }
      ]
    },
    {
      "cell_type": "code",
      "metadata": {
        "id": "64w-pj4Z9c7n"
      },
      "source": [
        "\r\n",
        "import io\r\n"
      ],
      "execution_count": 28,
      "outputs": []
    },
    {
      "cell_type": "code",
      "metadata": {
        "id": "HKRf00Zb_02E"
      },
      "source": [
        ""
      ],
      "execution_count": 28,
      "outputs": []
    }
  ]
}