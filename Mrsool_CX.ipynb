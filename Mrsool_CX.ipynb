{
  "nbformat": 4,
  "nbformat_minor": 0,
  "metadata": {
    "colab": {
      "name": "Mrsool_CX.ipynb",
      "provenance": [],
      "collapsed_sections": [],
      "include_colab_link": true
    },
    "kernelspec": {
      "name": "python3",
      "display_name": "Python 3"
    }
  },
  "cells": [
    {
      "cell_type": "markdown",
      "metadata": {
        "id": "view-in-github",
        "colab_type": "text"
      },
      "source": [
        "<a href=\"https://colab.research.google.com/github/sharibhumayun/practice/blob/main/Mrsool_CX.ipynb\" target=\"_parent\"><img src=\"https://colab.research.google.com/assets/colab-badge.svg\" alt=\"Open In Colab\"/></a>"
      ]
    },
    {
      "cell_type": "code",
      "metadata": {
        "id": "tIMRiGIYWGBn"
      },
      "source": [
        "import pandas as pd\r\n",
        "import numpy as np\r\n",
        "import matplotlib.pyplot as plt\r\n",
        "%matplotlib inline\r\n",
        "import seaborn as sns"
      ],
      "execution_count": null,
      "outputs": []
    },
    {
      "cell_type": "code",
      "metadata": {
        "id": "F41_VGKUWXH-",
        "colab": {
          "base_uri": "https://localhost:8080/",
          "height": 302
        },
        "outputId": "67227516-ade2-4494-992a-2d5c1cef0e30"
      },
      "source": [
        "path ='https://raw.githubusercontent.com/sharibhumayun/practice/main/Masterdatabase.csv'\r\n",
        "df= pd.read_csv(path)\r\n",
        "df.head()"
      ],
      "execution_count": null,
      "outputs": [
        {
          "output_type": "execute_result",
          "data": {
            "text/html": [
              "<div>\n",
              "<style scoped>\n",
              "    .dataframe tbody tr th:only-of-type {\n",
              "        vertical-align: middle;\n",
              "    }\n",
              "\n",
              "    .dataframe tbody tr th {\n",
              "        vertical-align: top;\n",
              "    }\n",
              "\n",
              "    .dataframe thead th {\n",
              "        text-align: right;\n",
              "    }\n",
              "</style>\n",
              "<table border=\"1\" class=\"dataframe\">\n",
              "  <thead>\n",
              "    <tr style=\"text-align: right;\">\n",
              "      <th></th>\n",
              "      <th>Region</th>\n",
              "      <th>Main_brand</th>\n",
              "      <th>Category</th>\n",
              "      <th>Age</th>\n",
              "      <th>Gender</th>\n",
              "      <th>Nationality</th>\n",
              "      <th>OSAT</th>\n",
              "      <th>Communication</th>\n",
              "      <th>Ontime</th>\n",
              "      <th>Proposition</th>\n",
              "      <th>Delivery_fees</th>\n",
              "      <th>Restaurant_options</th>\n",
              "      <th>Grocery_options</th>\n",
              "      <th>Ease_usage</th>\n",
              "      <th>Delivery_process</th>\n",
              "      <th>App_sat</th>\n",
              "      <th>time_deliveryboy</th>\n",
              "      <th>Customer_support</th>\n",
              "      <th>Payment_process</th>\n",
              "      <th>Paying_</th>\n",
              "      <th>Product_quality</th>\n",
              "    </tr>\n",
              "  </thead>\n",
              "  <tbody>\n",
              "    <tr>\n",
              "      <th>0</th>\n",
              "      <td>Western</td>\n",
              "      <td>HungerStation</td>\n",
              "      <td>Restaurants</td>\n",
              "      <td>30-39</td>\n",
              "      <td>Male</td>\n",
              "      <td>Expat Arabs</td>\n",
              "      <td>8</td>\n",
              "      <td>6.0</td>\n",
              "      <td>5.0</td>\n",
              "      <td>6.0</td>\n",
              "      <td>6.0</td>\n",
              "      <td>6.0</td>\n",
              "      <td>6.0</td>\n",
              "      <td>7.0</td>\n",
              "      <td>7.0</td>\n",
              "      <td>7.0</td>\n",
              "      <td>6.0</td>\n",
              "      <td>7.0</td>\n",
              "      <td>6.0</td>\n",
              "      <td>8.0</td>\n",
              "      <td>7.0</td>\n",
              "    </tr>\n",
              "    <tr>\n",
              "      <th>1</th>\n",
              "      <td>Western</td>\n",
              "      <td>HungerStation</td>\n",
              "      <td>Restaurants</td>\n",
              "      <td>30-39</td>\n",
              "      <td>Female</td>\n",
              "      <td>Nationals</td>\n",
              "      <td>9</td>\n",
              "      <td>10.0</td>\n",
              "      <td>10.0</td>\n",
              "      <td>10.0</td>\n",
              "      <td>9.0</td>\n",
              "      <td>10.0</td>\n",
              "      <td>10.0</td>\n",
              "      <td>10.0</td>\n",
              "      <td>10.0</td>\n",
              "      <td>10.0</td>\n",
              "      <td>10.0</td>\n",
              "      <td>9.0</td>\n",
              "      <td>10.0</td>\n",
              "      <td>9.0</td>\n",
              "      <td>10.0</td>\n",
              "    </tr>\n",
              "    <tr>\n",
              "      <th>2</th>\n",
              "      <td>Western</td>\n",
              "      <td>HungerStation</td>\n",
              "      <td>Restaurants</td>\n",
              "      <td>30-39</td>\n",
              "      <td>Male</td>\n",
              "      <td>Nationals</td>\n",
              "      <td>10</td>\n",
              "      <td>9.0</td>\n",
              "      <td>8.0</td>\n",
              "      <td>10.0</td>\n",
              "      <td>NaN</td>\n",
              "      <td>10.0</td>\n",
              "      <td>9.0</td>\n",
              "      <td>10.0</td>\n",
              "      <td>NaN</td>\n",
              "      <td>10.0</td>\n",
              "      <td>9.0</td>\n",
              "      <td>10.0</td>\n",
              "      <td>NaN</td>\n",
              "      <td>9.0</td>\n",
              "      <td>10.0</td>\n",
              "    </tr>\n",
              "    <tr>\n",
              "      <th>3</th>\n",
              "      <td>Western</td>\n",
              "      <td>HungerStation</td>\n",
              "      <td>Restaurants</td>\n",
              "      <td>40-49</td>\n",
              "      <td>Male</td>\n",
              "      <td>Expat Asians</td>\n",
              "      <td>7</td>\n",
              "      <td>9.0</td>\n",
              "      <td>9.0</td>\n",
              "      <td>9.0</td>\n",
              "      <td>9.0</td>\n",
              "      <td>9.0</td>\n",
              "      <td>9.0</td>\n",
              "      <td>9.0</td>\n",
              "      <td>9.0</td>\n",
              "      <td>9.0</td>\n",
              "      <td>9.0</td>\n",
              "      <td>9.0</td>\n",
              "      <td>9.0</td>\n",
              "      <td>8.0</td>\n",
              "      <td>9.0</td>\n",
              "    </tr>\n",
              "    <tr>\n",
              "      <th>4</th>\n",
              "      <td>Central</td>\n",
              "      <td>HungerStation</td>\n",
              "      <td>Restaurants</td>\n",
              "      <td>30-39</td>\n",
              "      <td>Female</td>\n",
              "      <td>Nationals</td>\n",
              "      <td>6</td>\n",
              "      <td>8.0</td>\n",
              "      <td>7.0</td>\n",
              "      <td>7.0</td>\n",
              "      <td>6.0</td>\n",
              "      <td>6.0</td>\n",
              "      <td>6.0</td>\n",
              "      <td>5.0</td>\n",
              "      <td>7.0</td>\n",
              "      <td>7.0</td>\n",
              "      <td>5.0</td>\n",
              "      <td>6.0</td>\n",
              "      <td>6.0</td>\n",
              "      <td>6.0</td>\n",
              "      <td>6.0</td>\n",
              "    </tr>\n",
              "  </tbody>\n",
              "</table>\n",
              "</div>"
            ],
            "text/plain": [
              "    Region     Main_brand  ... Paying_ Product_quality\n",
              "0  Western  HungerStation  ...     8.0             7.0\n",
              "1  Western  HungerStation  ...     9.0            10.0\n",
              "2  Western  HungerStation  ...     9.0            10.0\n",
              "3  Western  HungerStation  ...     8.0             9.0\n",
              "4  Central  HungerStation  ...     6.0             6.0\n",
              "\n",
              "[5 rows x 21 columns]"
            ]
          },
          "metadata": {
            "tags": []
          },
          "execution_count": 144
        }
      ]
    },
    {
      "cell_type": "code",
      "metadata": {
        "colab": {
          "base_uri": "https://localhost:8080/"
        },
        "id": "s3M5JbxGZ5Cw",
        "outputId": "a073696c-0191-4385-ac51-d69963f909fa"
      },
      "source": [
        "df.shape"
      ],
      "execution_count": null,
      "outputs": [
        {
          "output_type": "execute_result",
          "data": {
            "text/plain": [
              "(3581, 21)"
            ]
          },
          "metadata": {
            "tags": []
          },
          "execution_count": 145
        }
      ]
    },
    {
      "cell_type": "code",
      "metadata": {
        "colab": {
          "base_uri": "https://localhost:8080/"
        },
        "id": "JkoQhqwnaeVc",
        "outputId": "1a0e6a11-caca-48ab-9ae9-84f7135bf320"
      },
      "source": [
        "df.dtypes"
      ],
      "execution_count": null,
      "outputs": [
        {
          "output_type": "execute_result",
          "data": {
            "text/plain": [
              "Region                 object\n",
              "Main_brand             object\n",
              "Category               object\n",
              "Age                    object\n",
              "Gender                 object\n",
              "Nationality            object\n",
              "OSAT                   object\n",
              "Communication         float64\n",
              "Ontime                float64\n",
              "Proposition           float64\n",
              "Delivery_fees         float64\n",
              "Restaurant_options    float64\n",
              "Grocery_options       float64\n",
              "Ease_usage            float64\n",
              "Delivery_process      float64\n",
              "App_sat               float64\n",
              "time_deliveryboy      float64\n",
              "Customer_support      float64\n",
              "Payment_process       float64\n",
              "Paying_               float64\n",
              "Product_quality       float64\n",
              "dtype: object"
            ]
          },
          "metadata": {
            "tags": []
          },
          "execution_count": 146
        }
      ]
    },
    {
      "cell_type": "code",
      "metadata": {
        "colab": {
          "base_uri": "https://localhost:8080/"
        },
        "id": "nAOFfTNJl8i4",
        "outputId": "23f6a6c1-d477-47e3-9625-6e043697858b"
      },
      "source": [
        "df[\"OSAT\"] = pd.to_numeric(df.OSAT, errors='coerce')\r\n",
        "df.dtypes"
      ],
      "execution_count": null,
      "outputs": [
        {
          "output_type": "execute_result",
          "data": {
            "text/plain": [
              "Region                 object\n",
              "Main_brand             object\n",
              "Category               object\n",
              "Age                    object\n",
              "Gender                 object\n",
              "Nationality            object\n",
              "OSAT                  float64\n",
              "Communication         float64\n",
              "Ontime                float64\n",
              "Proposition           float64\n",
              "Delivery_fees         float64\n",
              "Restaurant_options    float64\n",
              "Grocery_options       float64\n",
              "Ease_usage            float64\n",
              "Delivery_process      float64\n",
              "App_sat               float64\n",
              "time_deliveryboy      float64\n",
              "Customer_support      float64\n",
              "Payment_process       float64\n",
              "Paying_               float64\n",
              "Product_quality       float64\n",
              "dtype: object"
            ]
          },
          "metadata": {
            "tags": []
          },
          "execution_count": 147
        }
      ]
    },
    {
      "cell_type": "code",
      "metadata": {
        "colab": {
          "base_uri": "https://localhost:8080/"
        },
        "id": "9DKvXxdDa6er",
        "outputId": "1f70e30e-23af-46fc-bcb7-8d9d79f974cf"
      },
      "source": [
        "df.isnull().sum()"
      ],
      "execution_count": null,
      "outputs": [
        {
          "output_type": "execute_result",
          "data": {
            "text/plain": [
              "Region                  0\n",
              "Main_brand              0\n",
              "Category                0\n",
              "Age                     0\n",
              "Gender                  0\n",
              "Nationality             0\n",
              "OSAT                    8\n",
              "Communication          35\n",
              "Ontime                 31\n",
              "Proposition            35\n",
              "Delivery_fees          44\n",
              "Restaurant_options     49\n",
              "Grocery_options        93\n",
              "Ease_usage             57\n",
              "Delivery_process       56\n",
              "App_sat                68\n",
              "time_deliveryboy       56\n",
              "Customer_support       91\n",
              "Payment_process        82\n",
              "Paying_               112\n",
              "Product_quality        82\n",
              "dtype: int64"
            ]
          },
          "metadata": {
            "tags": []
          },
          "execution_count": 148
        }
      ]
    },
    {
      "cell_type": "code",
      "metadata": {
        "id": "tTmpHwvGakJR"
      },
      "source": [
        "# Insert the missing values with the median of each column\r\n",
        "df['Communication'] = df['Communication'].fillna(value = df['Communication'].median())\r\n",
        "df['Ontime'] = df['Ontime'].fillna(value = df['Ontime'].median())\r\n",
        "df['Proposition'] = df['Proposition'].fillna(value = df['Proposition'].median())\r\n",
        "df['Delivery_fees'] = df['Delivery_fees'].fillna(value = df['Delivery_fees'].median())\r\n",
        "df['Restaurant_options'] = df['Restaurant_options'].fillna(value = df['Restaurant_options'].median())\r\n",
        "df['Grocery_options'] = df['Grocery_options'].fillna(value = df['Grocery_options'].median())\r\n",
        "df['Ease_usage'] = df['Ease_usage'].fillna(value = df['Ease_usage'].median())\r\n",
        "df['Delivery_process'] = df['Delivery_process'].fillna(value = df['Delivery_process'].median())\r\n",
        "df['App_sat'] = df['App_sat'].fillna(value = df['App_sat'].median())\r\n",
        "df['time_deliveryboy'] = df['time_deliveryboy'].fillna(value = df['time_deliveryboy'].median())\r\n",
        "df['Customer_support'] = df['Customer_support'].fillna(value = df['Customer_support'].median())\r\n",
        "df['Payment_process'] = df['Payment_process'].fillna(value = df['Payment_process'].median())\r\n",
        "df['Paying_'] = df['Paying_'].fillna(value = df['Paying_'].median())\r\n",
        "df['Product_quality'] = df['Product_quality'].fillna(value = df['Product_quality'].median())\r\n",
        "df['OSAT'] = df['OSAT'].fillna(value = df['OSAT'].median())"
      ],
      "execution_count": null,
      "outputs": []
    },
    {
      "cell_type": "code",
      "metadata": {
        "colab": {
          "base_uri": "https://localhost:8080/"
        },
        "id": "sqgGbsXJdBSc",
        "outputId": "f2c0862a-dabd-446f-d533-49c1fa4bc396"
      },
      "source": [
        "df.isnull().sum()"
      ],
      "execution_count": null,
      "outputs": [
        {
          "output_type": "execute_result",
          "data": {
            "text/plain": [
              "Region                0\n",
              "Main_brand            0\n",
              "Category              0\n",
              "Age                   0\n",
              "Gender                0\n",
              "Nationality           0\n",
              "OSAT                  0\n",
              "Communication         0\n",
              "Ontime                0\n",
              "Proposition           0\n",
              "Delivery_fees         0\n",
              "Restaurant_options    0\n",
              "Grocery_options       0\n",
              "Ease_usage            0\n",
              "Delivery_process      0\n",
              "App_sat               0\n",
              "time_deliveryboy      0\n",
              "Customer_support      0\n",
              "Payment_process       0\n",
              "Paying_               0\n",
              "Product_quality       0\n",
              "dtype: int64"
            ]
          },
          "metadata": {
            "tags": []
          },
          "execution_count": 150
        }
      ]
    },
    {
      "cell_type": "code",
      "metadata": {
        "colab": {
          "base_uri": "https://localhost:8080/",
          "height": 234
        },
        "id": "IvVfFSR4gEVu",
        "outputId": "ceb085ca-c5c2-46f7-ec2d-8d6bb18daa8a"
      },
      "source": [
        "## Convert the Object items to Number system\r\n",
        "df= pd.get_dummies(df,drop_first = True)\r\n",
        "df.head()"
      ],
      "execution_count": null,
      "outputs": [
        {
          "output_type": "execute_result",
          "data": {
            "text/html": [
              "<div>\n",
              "<style scoped>\n",
              "    .dataframe tbody tr th:only-of-type {\n",
              "        vertical-align: middle;\n",
              "    }\n",
              "\n",
              "    .dataframe tbody tr th {\n",
              "        vertical-align: top;\n",
              "    }\n",
              "\n",
              "    .dataframe thead th {\n",
              "        text-align: right;\n",
              "    }\n",
              "</style>\n",
              "<table border=\"1\" class=\"dataframe\">\n",
              "  <thead>\n",
              "    <tr style=\"text-align: right;\">\n",
              "      <th></th>\n",
              "      <th>OSAT</th>\n",
              "      <th>Communication</th>\n",
              "      <th>Ontime</th>\n",
              "      <th>Proposition</th>\n",
              "      <th>Delivery_fees</th>\n",
              "      <th>Restaurant_options</th>\n",
              "      <th>Grocery_options</th>\n",
              "      <th>Ease_usage</th>\n",
              "      <th>Delivery_process</th>\n",
              "      <th>App_sat</th>\n",
              "      <th>time_deliveryboy</th>\n",
              "      <th>Customer_support</th>\n",
              "      <th>Payment_process</th>\n",
              "      <th>Paying_</th>\n",
              "      <th>Product_quality</th>\n",
              "      <th>Region_Eastern</th>\n",
              "      <th>Region_Northern</th>\n",
              "      <th>Region_South</th>\n",
              "      <th>Region_Western</th>\n",
              "      <th>Main_brand_Carriage</th>\n",
              "      <th>Main_brand_HungerStation</th>\n",
              "      <th>Main_brand_Jahez</th>\n",
              "      <th>Main_brand_MRSOOL</th>\n",
              "      <th>Main_brand_Nana</th>\n",
              "      <th>Main_brand_Ngwah</th>\n",
              "      <th>Main_brand_Talabat</th>\n",
              "      <th>Main_brand_ToYou</th>\n",
              "      <th>Main_brand_Wassel</th>\n",
              "      <th>Category_Grocery</th>\n",
              "      <th>Category_ODS</th>\n",
              "      <th>Category_Personal_care</th>\n",
              "      <th>Category_Pharmacies</th>\n",
              "      <th>Category_Restaurants</th>\n",
              "      <th>Age_30-39</th>\n",
              "      <th>Age_40-49</th>\n",
              "      <th>Age_50+</th>\n",
              "      <th>Gender_Male</th>\n",
              "      <th>Nationality_Expat Asians</th>\n",
              "      <th>Nationality_Nationals</th>\n",
              "    </tr>\n",
              "  </thead>\n",
              "  <tbody>\n",
              "    <tr>\n",
              "      <th>0</th>\n",
              "      <td>8.0</td>\n",
              "      <td>6.0</td>\n",
              "      <td>5.0</td>\n",
              "      <td>6.0</td>\n",
              "      <td>6.0</td>\n",
              "      <td>6.0</td>\n",
              "      <td>6.0</td>\n",
              "      <td>7.0</td>\n",
              "      <td>7.0</td>\n",
              "      <td>7.0</td>\n",
              "      <td>6.0</td>\n",
              "      <td>7.0</td>\n",
              "      <td>6.0</td>\n",
              "      <td>8.0</td>\n",
              "      <td>7.0</td>\n",
              "      <td>0</td>\n",
              "      <td>0</td>\n",
              "      <td>0</td>\n",
              "      <td>1</td>\n",
              "      <td>0</td>\n",
              "      <td>1</td>\n",
              "      <td>0</td>\n",
              "      <td>0</td>\n",
              "      <td>0</td>\n",
              "      <td>0</td>\n",
              "      <td>0</td>\n",
              "      <td>0</td>\n",
              "      <td>0</td>\n",
              "      <td>0</td>\n",
              "      <td>0</td>\n",
              "      <td>0</td>\n",
              "      <td>0</td>\n",
              "      <td>1</td>\n",
              "      <td>1</td>\n",
              "      <td>0</td>\n",
              "      <td>0</td>\n",
              "      <td>1</td>\n",
              "      <td>0</td>\n",
              "      <td>0</td>\n",
              "    </tr>\n",
              "    <tr>\n",
              "      <th>1</th>\n",
              "      <td>9.0</td>\n",
              "      <td>10.0</td>\n",
              "      <td>10.0</td>\n",
              "      <td>10.0</td>\n",
              "      <td>9.0</td>\n",
              "      <td>10.0</td>\n",
              "      <td>10.0</td>\n",
              "      <td>10.0</td>\n",
              "      <td>10.0</td>\n",
              "      <td>10.0</td>\n",
              "      <td>10.0</td>\n",
              "      <td>9.0</td>\n",
              "      <td>10.0</td>\n",
              "      <td>9.0</td>\n",
              "      <td>10.0</td>\n",
              "      <td>0</td>\n",
              "      <td>0</td>\n",
              "      <td>0</td>\n",
              "      <td>1</td>\n",
              "      <td>0</td>\n",
              "      <td>1</td>\n",
              "      <td>0</td>\n",
              "      <td>0</td>\n",
              "      <td>0</td>\n",
              "      <td>0</td>\n",
              "      <td>0</td>\n",
              "      <td>0</td>\n",
              "      <td>0</td>\n",
              "      <td>0</td>\n",
              "      <td>0</td>\n",
              "      <td>0</td>\n",
              "      <td>0</td>\n",
              "      <td>1</td>\n",
              "      <td>1</td>\n",
              "      <td>0</td>\n",
              "      <td>0</td>\n",
              "      <td>0</td>\n",
              "      <td>0</td>\n",
              "      <td>1</td>\n",
              "    </tr>\n",
              "    <tr>\n",
              "      <th>2</th>\n",
              "      <td>10.0</td>\n",
              "      <td>9.0</td>\n",
              "      <td>8.0</td>\n",
              "      <td>10.0</td>\n",
              "      <td>9.0</td>\n",
              "      <td>10.0</td>\n",
              "      <td>9.0</td>\n",
              "      <td>10.0</td>\n",
              "      <td>9.0</td>\n",
              "      <td>10.0</td>\n",
              "      <td>9.0</td>\n",
              "      <td>10.0</td>\n",
              "      <td>9.0</td>\n",
              "      <td>9.0</td>\n",
              "      <td>10.0</td>\n",
              "      <td>0</td>\n",
              "      <td>0</td>\n",
              "      <td>0</td>\n",
              "      <td>1</td>\n",
              "      <td>0</td>\n",
              "      <td>1</td>\n",
              "      <td>0</td>\n",
              "      <td>0</td>\n",
              "      <td>0</td>\n",
              "      <td>0</td>\n",
              "      <td>0</td>\n",
              "      <td>0</td>\n",
              "      <td>0</td>\n",
              "      <td>0</td>\n",
              "      <td>0</td>\n",
              "      <td>0</td>\n",
              "      <td>0</td>\n",
              "      <td>1</td>\n",
              "      <td>1</td>\n",
              "      <td>0</td>\n",
              "      <td>0</td>\n",
              "      <td>1</td>\n",
              "      <td>0</td>\n",
              "      <td>1</td>\n",
              "    </tr>\n",
              "    <tr>\n",
              "      <th>3</th>\n",
              "      <td>7.0</td>\n",
              "      <td>9.0</td>\n",
              "      <td>9.0</td>\n",
              "      <td>9.0</td>\n",
              "      <td>9.0</td>\n",
              "      <td>9.0</td>\n",
              "      <td>9.0</td>\n",
              "      <td>9.0</td>\n",
              "      <td>9.0</td>\n",
              "      <td>9.0</td>\n",
              "      <td>9.0</td>\n",
              "      <td>9.0</td>\n",
              "      <td>9.0</td>\n",
              "      <td>8.0</td>\n",
              "      <td>9.0</td>\n",
              "      <td>0</td>\n",
              "      <td>0</td>\n",
              "      <td>0</td>\n",
              "      <td>1</td>\n",
              "      <td>0</td>\n",
              "      <td>1</td>\n",
              "      <td>0</td>\n",
              "      <td>0</td>\n",
              "      <td>0</td>\n",
              "      <td>0</td>\n",
              "      <td>0</td>\n",
              "      <td>0</td>\n",
              "      <td>0</td>\n",
              "      <td>0</td>\n",
              "      <td>0</td>\n",
              "      <td>0</td>\n",
              "      <td>0</td>\n",
              "      <td>1</td>\n",
              "      <td>0</td>\n",
              "      <td>1</td>\n",
              "      <td>0</td>\n",
              "      <td>1</td>\n",
              "      <td>1</td>\n",
              "      <td>0</td>\n",
              "    </tr>\n",
              "    <tr>\n",
              "      <th>4</th>\n",
              "      <td>6.0</td>\n",
              "      <td>8.0</td>\n",
              "      <td>7.0</td>\n",
              "      <td>7.0</td>\n",
              "      <td>6.0</td>\n",
              "      <td>6.0</td>\n",
              "      <td>6.0</td>\n",
              "      <td>5.0</td>\n",
              "      <td>7.0</td>\n",
              "      <td>7.0</td>\n",
              "      <td>5.0</td>\n",
              "      <td>6.0</td>\n",
              "      <td>6.0</td>\n",
              "      <td>6.0</td>\n",
              "      <td>6.0</td>\n",
              "      <td>0</td>\n",
              "      <td>0</td>\n",
              "      <td>0</td>\n",
              "      <td>0</td>\n",
              "      <td>0</td>\n",
              "      <td>1</td>\n",
              "      <td>0</td>\n",
              "      <td>0</td>\n",
              "      <td>0</td>\n",
              "      <td>0</td>\n",
              "      <td>0</td>\n",
              "      <td>0</td>\n",
              "      <td>0</td>\n",
              "      <td>0</td>\n",
              "      <td>0</td>\n",
              "      <td>0</td>\n",
              "      <td>0</td>\n",
              "      <td>1</td>\n",
              "      <td>1</td>\n",
              "      <td>0</td>\n",
              "      <td>0</td>\n",
              "      <td>0</td>\n",
              "      <td>0</td>\n",
              "      <td>1</td>\n",
              "    </tr>\n",
              "  </tbody>\n",
              "</table>\n",
              "</div>"
            ],
            "text/plain": [
              "   OSAT  Communication  ...  Nationality_Expat Asians  Nationality_Nationals\n",
              "0   8.0            6.0  ...                         0                      0\n",
              "1   9.0           10.0  ...                         0                      1\n",
              "2  10.0            9.0  ...                         0                      1\n",
              "3   7.0            9.0  ...                         1                      0\n",
              "4   6.0            8.0  ...                         0                      1\n",
              "\n",
              "[5 rows x 39 columns]"
            ]
          },
          "metadata": {
            "tags": []
          },
          "execution_count": 151
        }
      ]
    },
    {
      "cell_type": "code",
      "metadata": {
        "colab": {
          "base_uri": "https://localhost:8080/"
        },
        "id": "_gXi7LIlobsa",
        "outputId": "d63e35cb-38d2-450d-b778-045aebc082c8"
      },
      "source": [
        "df.columns"
      ],
      "execution_count": null,
      "outputs": [
        {
          "output_type": "execute_result",
          "data": {
            "text/plain": [
              "Index(['OSAT', 'Communication', 'Ontime', 'Proposition', 'Delivery_fees',\n",
              "       'Restaurant_options', 'Grocery_options', 'Ease_usage',\n",
              "       'Delivery_process', 'App_sat', 'time_deliveryboy', 'Customer_support',\n",
              "       'Payment_process', 'Paying_', 'Product_quality', 'Region_Eastern',\n",
              "       'Region_Northern', 'Region_South', 'Region_Western',\n",
              "       'Main_brand_Carriage', 'Main_brand_HungerStation', 'Main_brand_Jahez',\n",
              "       'Main_brand_MRSOOL', 'Main_brand_Nana', 'Main_brand_Ngwah',\n",
              "       'Main_brand_Talabat', 'Main_brand_ToYou', 'Main_brand_Wassel',\n",
              "       'Category_Grocery', 'Category_ODS', 'Category_Personal_care',\n",
              "       'Category_Pharmacies', 'Category_Restaurants', 'Age_30-39', 'Age_40-49',\n",
              "       'Age_50+', 'Gender_Male', 'Nationality_Expat Asians',\n",
              "       'Nationality_Nationals'],\n",
              "      dtype='object')"
            ]
          },
          "metadata": {
            "tags": []
          },
          "execution_count": 152
        }
      ]
    },
    {
      "cell_type": "code",
      "metadata": {
        "id": "-d9qluSxvF9D"
      },
      "source": [
        ""
      ],
      "execution_count": null,
      "outputs": []
    },
    {
      "cell_type": "code",
      "metadata": {
        "id": "QdfLTTJTihyf"
      },
      "source": [
        "x = df.drop('OSAT',axis=1)\r\n",
        "y = df['OSAT']"
      ],
      "execution_count": null,
      "outputs": []
    },
    {
      "cell_type": "code",
      "metadata": {
        "id": "VGJ2vdXNwNJC"
      },
      "source": [
        "gg = df[['Communication', 'Ontime', 'Proposition', 'Delivery_fees','Restaurant_options', 'Grocery_options', 'Ease_usage','Delivery_process', 'App_sat', 'time_deliveryboy', 'Customer_support','Payment_process', 'Paying_', 'Product_quality']]"
      ],
      "execution_count": null,
      "outputs": []
    },
    {
      "cell_type": "code",
      "metadata": {
        "colab": {
          "base_uri": "https://localhost:8080/",
          "height": 807
        },
        "id": "4HdvyDfWvT1m",
        "outputId": "f81c4a47-b43f-4368-81eb-1b9e8b5edecc"
      },
      "source": [
        "plt.figure(figsize=(20,12))\r\n",
        "sns.heatmap(gg.corr(), annot = True)"
      ],
      "execution_count": null,
      "outputs": [
        {
          "output_type": "execute_result",
          "data": {
            "text/plain": [
              "<matplotlib.axes._subplots.AxesSubplot at 0x7fcf5c0fd0f0>"
            ]
          },
          "metadata": {
            "tags": []
          },
          "execution_count": 174
        },
        {
          "output_type": "display_data",
          "data": {
            "image/png": "[encoded data removed]",
            "text/plain": [
              "<Figure size 1440x864 with 2 Axes>"
            ]
          },
          "metadata": {
            "tags": [],
            "needs_background": "light"
          }
        }
      ]
    },
    {
      "cell_type": "code",
      "metadata": {
        "id": "wqhmFEmqi76j"
      },
      "source": [
        "\r\n",
        "from sklearn.model_selection import train_test_split\r\n",
        "x_train,x_test,y_train,y_test = train_test_split(x,y,test_size= 0.2, random_state= 5)"
      ],
      "execution_count": null,
      "outputs": []
    },
    {
      "cell_type": "code",
      "metadata": {
        "colab": {
          "base_uri": "https://localhost:8080/"
        },
        "id": "dOGui8qejP4X",
        "outputId": "b82d1d06-0fc8-458d-c27d-e5cb45d7f5b9"
      },
      "source": [
        "from sklearn.linear_model import LinearRegression\r\n",
        "model = LinearRegression()\r\n",
        "model.fit(x_train,y_train)\r\n"
      ],
      "execution_count": null,
      "outputs": [
        {
          "output_type": "execute_result",
          "data": {
            "text/plain": [
              "LinearRegression(copy_X=True, fit_intercept=True, n_jobs=None, normalize=False)"
            ]
          },
          "metadata": {
            "tags": []
          },
          "execution_count": 159
        }
      ]
    },
    {
      "cell_type": "code",
      "metadata": {
        "colab": {
          "base_uri": "https://localhost:8080/"
        },
        "id": "FDpm7mPbjiEW",
        "outputId": "4186137d-e752-44e2-90ba-6e4223c5c060"
      },
      "source": [
        "model.score(x_test,y_test)"
      ],
      "execution_count": null,
      "outputs": [
        {
          "output_type": "execute_result",
          "data": {
            "text/plain": [
              "0.35011262822492784"
            ]
          },
          "metadata": {
            "tags": []
          },
          "execution_count": 160
        }
      ]
    },
    {
      "cell_type": "code",
      "metadata": {
        "colab": {
          "base_uri": "https://localhost:8080/"
        },
        "id": "ioGqHGqCj9yA",
        "outputId": "63848ff2-0951-436e-a919-98c76b44a804"
      },
      "source": [
        "model.coef_"
      ],
      "execution_count": null,
      "outputs": [
        {
          "output_type": "execute_result",
          "data": {
            "text/plain": [
              "array([ 0.25693493,  0.11516419,  0.10040674,  0.01269765, -0.02411201,\n",
              "        0.0006892 ,  0.05305873, -0.00293811,  0.011726  ,  0.02166981,\n",
              "       -0.00306072,  0.01248819,  0.02190867,  0.06836675, -0.0451991 ,\n",
              "       -0.17254371, -0.07105691, -0.07774247,  0.04859527,  0.00175789,\n",
              "       -0.05104698,  0.05756868, -0.14910269, -0.08632731, -0.16324739,\n",
              "        0.1384416 , -0.00215191,  0.26165358,  0.03148324, -0.08758312,\n",
              "        0.16589559,  0.36606   ,  0.0774936 ,  0.03065022,  0.1594109 ,\n",
              "       -0.05700248,  0.06305138,  0.10176812])"
            ]
          },
          "metadata": {
            "tags": []
          },
          "execution_count": 161
        }
      ]
    },
    {
      "cell_type": "code",
      "metadata": {
        "colab": {
          "base_uri": "https://localhost:8080/"
        },
        "id": "aPuxnpCHlHvR",
        "outputId": "b7fc363f-b6ea-4c83-f29f-1f5d9f5f9fcb"
      },
      "source": [
        "model.intercept_"
      ],
      "execution_count": null,
      "outputs": [
        {
          "output_type": "execute_result",
          "data": {
            "text/plain": [
              "2.753931936722574"
            ]
          },
          "metadata": {
            "tags": []
          },
          "execution_count": 162
        }
      ]
    },
    {
      "cell_type": "code",
      "metadata": {
        "colab": {
          "base_uri": "https://localhost:8080/",
          "height": 466
        },
        "id": "fUVPvKZGtt0J",
        "outputId": "3bcf12dd-2b49-46e7-aa5e-301f600bb955"
      },
      "source": [
        "xNames = ['Communication', 'Ontime', 'Proposition', 'Delivery_fees',\r\n",
        "       'Restaurant_options', 'Grocery_options', 'Ease_usage',\r\n",
        "       'Delivery_process', 'App_sat', 'time_deliveryboy', 'Customer_support',\r\n",
        "       'Payment_process', 'Paying_', 'Product_quality']\r\n",
        "yName = 'OSAT'\r\n",
        "\r\n",
        "df_results = relativeImp(df, outcomeName = yName, driverNames = xNames)\r\n",
        "df_results"
      ],
      "execution_count": null,
      "outputs": [
        {
          "output_type": "execute_result",
          "data": {
            "text/html": [
              "<div>\n",
              "<style scoped>\n",
              "    .dataframe tbody tr th:only-of-type {\n",
              "        vertical-align: middle;\n",
              "    }\n",
              "\n",
              "    .dataframe tbody tr th {\n",
              "        vertical-align: top;\n",
              "    }\n",
              "\n",
              "    .dataframe thead th {\n",
              "        text-align: right;\n",
              "    }\n",
              "</style>\n",
              "<table border=\"1\" class=\"dataframe\">\n",
              "  <thead>\n",
              "    <tr style=\"text-align: right;\">\n",
              "      <th></th>\n",
              "      <th>driver</th>\n",
              "      <th>rawRelaImpt</th>\n",
              "      <th>normRelaImpt</th>\n",
              "    </tr>\n",
              "  </thead>\n",
              "  <tbody>\n",
              "    <tr>\n",
              "      <th>0</th>\n",
              "      <td>Communication</td>\n",
              "      <td>0.067768</td>\n",
              "      <td>16.127736</td>\n",
              "    </tr>\n",
              "    <tr>\n",
              "      <th>1</th>\n",
              "      <td>Ontime</td>\n",
              "      <td>0.043137</td>\n",
              "      <td>10.265931</td>\n",
              "    </tr>\n",
              "    <tr>\n",
              "      <th>2</th>\n",
              "      <td>Proposition</td>\n",
              "      <td>0.040612</td>\n",
              "      <td>9.665031</td>\n",
              "    </tr>\n",
              "    <tr>\n",
              "      <th>3</th>\n",
              "      <td>Delivery_fees</td>\n",
              "      <td>0.025507</td>\n",
              "      <td>6.070249</td>\n",
              "    </tr>\n",
              "    <tr>\n",
              "      <th>4</th>\n",
              "      <td>Restaurant_options</td>\n",
              "      <td>0.023955</td>\n",
              "      <td>5.700981</td>\n",
              "    </tr>\n",
              "    <tr>\n",
              "      <th>5</th>\n",
              "      <td>Grocery_options</td>\n",
              "      <td>0.021156</td>\n",
              "      <td>5.034753</td>\n",
              "    </tr>\n",
              "    <tr>\n",
              "      <th>6</th>\n",
              "      <td>Ease_usage</td>\n",
              "      <td>0.026386</td>\n",
              "      <td>6.279507</td>\n",
              "    </tr>\n",
              "    <tr>\n",
              "      <th>7</th>\n",
              "      <td>Delivery_process</td>\n",
              "      <td>0.023578</td>\n",
              "      <td>5.611230</td>\n",
              "    </tr>\n",
              "    <tr>\n",
              "      <th>8</th>\n",
              "      <td>App_sat</td>\n",
              "      <td>0.025603</td>\n",
              "      <td>6.093157</td>\n",
              "    </tr>\n",
              "    <tr>\n",
              "      <th>9</th>\n",
              "      <td>time_deliveryboy</td>\n",
              "      <td>0.023988</td>\n",
              "      <td>5.708772</td>\n",
              "    </tr>\n",
              "    <tr>\n",
              "      <th>10</th>\n",
              "      <td>Customer_support</td>\n",
              "      <td>0.023975</td>\n",
              "      <td>5.705801</td>\n",
              "    </tr>\n",
              "    <tr>\n",
              "      <th>11</th>\n",
              "      <td>Payment_process</td>\n",
              "      <td>0.024263</td>\n",
              "      <td>5.774269</td>\n",
              "    </tr>\n",
              "    <tr>\n",
              "      <th>12</th>\n",
              "      <td>Paying_</td>\n",
              "      <td>0.023214</td>\n",
              "      <td>5.524656</td>\n",
              "    </tr>\n",
              "    <tr>\n",
              "      <th>13</th>\n",
              "      <td>Product_quality</td>\n",
              "      <td>0.027052</td>\n",
              "      <td>6.437926</td>\n",
              "    </tr>\n",
              "  </tbody>\n",
              "</table>\n",
              "</div>"
            ],
            "text/plain": [
              "                driver  rawRelaImpt  normRelaImpt\n",
              "0        Communication     0.067768     16.127736\n",
              "1               Ontime     0.043137     10.265931\n",
              "2          Proposition     0.040612      9.665031\n",
              "3        Delivery_fees     0.025507      6.070249\n",
              "4   Restaurant_options     0.023955      5.700981\n",
              "5      Grocery_options     0.021156      5.034753\n",
              "6           Ease_usage     0.026386      6.279507\n",
              "7     Delivery_process     0.023578      5.611230\n",
              "8              App_sat     0.025603      6.093157\n",
              "9     time_deliveryboy     0.023988      5.708772\n",
              "10    Customer_support     0.023975      5.705801\n",
              "11     Payment_process     0.024263      5.774269\n",
              "12             Paying_     0.023214      5.524656\n",
              "13     Product_quality     0.027052      6.437926"
            ]
          },
          "metadata": {
            "tags": []
          },
          "execution_count": 164
        }
      ]
    },
    {
      "cell_type": "code",
      "metadata": {
        "id": "wP3l4MGrugr3"
      },
      "source": [
        ""
      ],
      "execution_count": null,
      "outputs": []
    }
  ]
}